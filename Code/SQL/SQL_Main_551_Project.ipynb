{
 "cells": [
  {
   "cell_type": "code",
   "execution_count": 1,
   "id": "cce7fb59",
   "metadata": {},
   "outputs": [],
   "source": [
    "import os\n",
    "import mysql.connector\n",
    "import pandas as pd\n",
    "import sys\n",
    "import requests as r\n",
    "import io\n",
    "import re\n",
    "import random\n",
    "from os.path import exists\n",
    "## from collections import defaultdict"
   ]
  },
  {
   "cell_type": "markdown",
   "id": "a4385565",
   "metadata": {},
   "source": [
    "## Creating Connection object "
   ]
  },
  {
   "cell_type": "code",
   "execution_count": 2,
   "id": "a1e77bc0",
   "metadata": {},
   "outputs": [],
   "source": [
    "# Connecting the Python Notebook with MySQL workbench\n",
    "db = mysql.connector.connect(    #arguments used to initiate a connection\n",
    "    host=\"localhost\",           \n",
    "    database=\"SmartChoice\",\n",
    "    user=\"root\",\n",
    "    password=\"project128\"\n",
    ")\n",
    "#Creating Cursor object \n",
    "cursor = db.cursor()"
   ]
  },
  {
   "cell_type": "code",
   "execution_count": 3,
   "id": "3b18dbce",
   "metadata": {},
   "outputs": [
    {
     "name": "stdout",
     "output_type": "stream",
     "text": [
      "<mysql.connector.connection.MySQLConnection object at 0x7fd5487947c0>\n"
     ]
    }
   ],
   "source": [
    "print(db)"
   ]
  },
  {
   "cell_type": "code",
   "execution_count": 4,
   "id": "686e5004",
   "metadata": {},
   "outputs": [
    {
     "name": "stdout",
     "output_type": "stream",
     "text": [
      "('information_schema',)\n",
      "('mysql',)\n",
      "('performance_schema',)\n",
      "('SmartChoice',)\n",
      "('sys',)\n"
     ]
    }
   ],
   "source": [
    "cursor.execute(\"show databases\")\n",
    "for i in cursor:\n",
    "    print(i)\n"
   ]
  },
  {
   "cell_type": "code",
   "execution_count": 5,
   "id": "07c8a19d",
   "metadata": {},
   "outputs": [],
   "source": [
    "cursor.execute(\"use SmartChoice\")"
   ]
  },
  {
   "cell_type": "code",
   "execution_count": 6,
   "id": "081e80c3",
   "metadata": {},
   "outputs": [],
   "source": [
    "def Root_Directory(db, cursor):\n",
    "    cursor.execute(\"INSERT INTO Part_Directory(Parent_Id, D_Name) VALUES (0, 'root')\")\n",
    "    db.commit()"
   ]
  },
  {
   "cell_type": "markdown",
   "id": "2036be78",
   "metadata": {},
   "source": [
    "### Reading CSV File "
   ]
  },
  {
   "cell_type": "code",
   "execution_count": 9,
   "id": "d5f25cf8",
   "metadata": {},
   "outputs": [
    {
     "name": "stdout",
     "output_type": "stream",
     "text": [
      "<mysql.connector.connection.MySQLConnection object at 0x7fd538189e20>\n"
     ]
    }
   ],
   "source": [
    "class DatabaseAccess:\n",
    "    HOST = \"localhost\"\n",
    "    USER = \"root\"\n",
    "    DATABASE = \"SmartChoice\"\n",
    "    PASSWORD = \"project128\"\n",
    "\n",
    "    def connect(self):\n",
    "        return mysql.connector.connect(\n",
    "            host = self.HOST, \n",
    "            user = self.USER, \n",
    "            password = self.PASSWORD,\n",
    "            database = self.DATABASE\n",
    "        )\n",
    "if __name__==\"__main__\":\n",
    "    db = DatabaseAccess().connect()\n",
    "    print(db)"
   ]
  },
  {
   "cell_type": "code",
   "execution_count": 10,
   "id": "d876996b",
   "metadata": {},
   "outputs": [],
   "source": [
    "#Making Dataframe to load Data\n",
    "# csv='{}.csv'.format(\"Project_Dataset\")\n",
    "df = pd.read_csv(\"../SQL/Project_Dataset.csv\",index_col=False)"
   ]
  },
  {
   "cell_type": "code",
   "execution_count": null,
   "id": "a42887b2",
   "metadata": {},
   "outputs": [],
   "source": []
  }
 ],
 "metadata": {
  "kernelspec": {
   "display_name": "Python 3 (ipykernel)",
   "language": "python",
   "name": "python3"
  },
  "language_info": {
   "codemirror_mode": {
    "name": "ipython",
    "version": 3
   },
   "file_extension": ".py",
   "mimetype": "text/x-python",
   "name": "python",
   "nbconvert_exporter": "python",
   "pygments_lexer": "ipython3",
   "version": "3.9.12"
  }
 },
 "nbformat": 4,
 "nbformat_minor": 5
}
